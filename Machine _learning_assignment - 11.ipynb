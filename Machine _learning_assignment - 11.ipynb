{
 "cells": [
  {
   "cell_type": "markdown",
   "id": "276580d0-6252-4884-b202-26a7e230c297",
   "metadata": {},
   "source": [
    "# Assignment 11"
   ]
  },
  {
   "cell_type": "markdown",
   "id": "c384df9a-7bc9-4633-bd6e-8f25e3d9119f",
   "metadata": {},
   "source": [
    "**1.Given X be a discrete random variable with the following PMF**\n",
    "\n",
    "**1. Find the range RX of the random variable X.**\n",
    "\n",
    "**2. Find P(X ≤ 0.5)**\n",
    "\n",
    "**3. Find P(0.25<X<0.75)**\n",
    "\n",
    "**4. P(X = 0.2|X<0.6)**\n"
   ]
  },
  {
   "cell_type": "markdown",
   "id": "f20556e7-78af-4525-aa73-8a7b1f9b755e",
   "metadata": {},
   "source": [
    "1. The range RX of the random variable X is the set of all possible values that X can take. From the given PMF, we can determine the range as follows:\n",
    "RX = {0.2, 0.4, 0.5, 0.8, 1}\n",
    "\n",
    "2. To find P(X ≤ 0.5), we need to sum up the probabilities of all values less than or equal to 0.5:\n",
    "P(X ≤ 0.5) = P(X = 0.2) + P(X = 0.4) + P(X = 0.5) = 0.1 + 0.2 + 0.2 = 0.5\n",
    "\n",
    "3. To find P(0.25 < X < 0.75), we need to sum up the probabilities of all values between 0.25 and 0.75:\n",
    "P(0.25 < X < 0.75) = P(X = 0.4) + P(X = 0.5) = 0.2 + 0.2 = 0.4\n",
    "\n",
    "4. To find P(X = 0.2 | X < 0.6), we first need to calculate the probability of X being less than 0.6:\n",
    "P(X < 0.6) = P(X = 0.2) + P(X = 0.4) + P(X = 0.5) = 0.1 + 0.2 + 0.2 = 0.5\n",
    "\n",
    "Then, we can calculate the conditional probability using the formula:\n",
    "P(X = 0.2 | X < 0.6) = P(X = 0.2) / P(X < 0.6) = 0.1 / 0.5 = 0.2"
   ]
  },
  {
   "cell_type": "markdown",
   "id": "bd4495d5-0900-419c-8678-94bda3c82923",
   "metadata": {},
   "source": [
    "**2. Two equal and fair dice are rolled, and we observed two numbers X and Y.**\n",
    "\n",
    "**1. Find RX, RY, and the PMFs of X and Y.**\n",
    "\n",
    "**2. Find P(X = 2,Y = 6).**\n",
    "\n",
    "**3. Find P(X&gt;3|Y = 2).**\n",
    "\n",
    "**4. If Z = X + Y. Find the range and PMF of Z.**\n",
    "\n",
    "**5. Find P(X = 4|Z = 8).**"
   ]
  },
  {
   "cell_type": "markdown",
   "id": "d14c50b0-e1ef-4396-8475-6b5cf0f37c1c",
   "metadata": {},
   "source": [
    "1. The random variable X represents the outcome of the first die, and the random variable Y represents the outcome of the second die. Since both dice are fair, the possible outcomes for X and Y are integers from 1 to 6.\n",
    "\n",
    "The range of X (RX) is {1, 2, 3, 4, 5, 6}, and the range of Y (RY) is also {1, 2, 3, 4, 5, 6}.\n",
    "\n",
    "The probability mass function (PMF) of X and Y for fair dice is given by:\n",
    "P(X = k) = 1/6 for k in RX = {1, 2, 3, 4, 5, 6}\n",
    "P(Y = k) = 1/6 for k in RY = {1, 2, 3, 4, 5, 6}\n",
    "\n",
    "2. P(X = 2, Y = 6) represents the probability of getting X = 2 and Y = 6 simultaneously. Since the two dice rolls are independent events, the probability of the joint event is the product of their individual probabilities:\n",
    "P(X = 2, Y = 6) = P(X = 2) * P(Y = 6) = (1/6) * (1/6) = 1/36\n",
    "\n",
    "3. P(X > 3 | Y = 2) represents the conditional probability that X is greater than 3 given that Y is equal to 2. Since Y is fixed at 2, the range of X that satisfies this condition is {4, 5, 6}. The probability can be calculated as:\n",
    "P(X > 3 | Y = 2) = P(X = 4, Y = 2) + P(X = 5, Y = 2) + P(X = 6, Y = 2) = (1/36) + (1/36) + (1/36) = 3/36 = 1/12\n",
    "\n",
    "4. If Z = X + Y, the possible outcomes of Z range from 2 (when X = 1 and Y = 1) to 12 (when X = 6 and Y = 6). The range of Z (RZ) is {2, 3, 4, 5, 6, 7, 8, 9, 10, 11, 12}.\n",
    "\n",
    "To find the PMF of Z, we need to determine the probability of each possible outcome. Since X and Y are independent, the probability of Z = z is the sum of probabilities for all combinations of X and Y that sum up to z:\n",
    "P(Z = z) = P(X = k, Y = z - k) for k in RX and z - k in RY\n",
    "\n",
    "For example, P(Z = 2) = P(X = 1, Y = 1) = (1/6) * (1/6) = 1/36\n",
    "\n",
    "5. P(X = 4 | Z = 8) represents the conditional probability that X is equal to 4 given that Z is equal to 8. To calculate this, we need to consider all possible combinations of X and Y that result in Z = 8 and determine the probability of X = 4 among those combinations.\n",
    "\n",
    "The combinations that satisfy Z = 8 are (X = 2, Y = 6), (X = 3, Y = 5), (X = 4, Y = 4), (X = 5, Y = 3), and (X = 6, Y = 2). Out\n",
    "\n",
    " of these combinations, only (X = 4, Y = 4) has X = 4. Therefore, we can calculate:\n",
    "P(X = 4 | Z = 8) = P(X = 4, Y = 4) / P(Z = 8)\n",
    "\n",
    "To find P(Z = 8), we sum the probabilities of all combinations that result in Z = 8:\n",
    "P(Z = 8) = P(X = 2, Y = 6) + P(X = 3, Y = 5) + P(X = 4, Y = 4) + P(X = 5, Y = 3) + P(X = 6, Y = 2)\n",
    "\n",
    "Then, we calculate:\n",
    "P(X = 4 | Z = 8) = P(X = 4, Y = 4) / P(Z = 8) = (1/36) / P(Z = 8)\n",
    "\n",
    "To find P(Z = 8), we need to calculate the probability of each combination and sum them up."
   ]
  },
  {
   "cell_type": "markdown",
   "id": "b890a0e3-675c-4f90-b883-d238e4c8f2c6",
   "metadata": {},
   "source": [
    "**3. In an exam, there were 20 multiple-choice questions. Each question had 44 possible options. A student knew the answer to 10 questions, but the other 10 questions were unknown to him, and he chose answers randomly. If the student X's score is equal to the total number of correct answers, then find out the PMF of X. What is P(X>15)?**"
   ]
  },
  {
   "cell_type": "markdown",
   "id": "98700a0f-033b-491c-8649-c8a0c53666bb",
   "metadata": {},
   "source": [
    "The student has 20 questions in total, with 10 questions known and 10 questions unknown. The student randomly guesses the answers for the unknown questions out of the 44 possible options for each question.\n",
    "\n",
    "Let's calculate the probability mass function (PMF) of X, which represents the score of the student. The range of X is from 0 to 20.\n",
    "\n",
    "To find P(X = k), we need to consider the different combinations of correct and incorrect answers that can result in a score of k.\n",
    "\n",
    "For X = 0, the student has to guess all 20 questions incorrectly:\n",
    "P(X = 0) = (34/44)^20\n",
    "\n",
    "For X = 1, the student needs to have 1 correct answer among the 10 known questions and 19 incorrect answers among the remaining 10 unknown questions:\n",
    "P(X = 1) = C(10, 1) * (1/44)^1 * (43/44)^19\n",
    "\n",
    "Similarly, we can calculate the probabilities for X = 2, X = 3, and so on, up to X = 10. The probabilities for X > 10 will be symmetric to those for X < 10 since the student can score a maximum of 10 points with the known answers.\n",
    "\n",
    "To calculate P(X > 15), we need to sum the probabilities for X = 16, 17, 18, 19, and 20:\n",
    "P(X > 15) = P(X = 16) + P(X = 17) + P(X = 18) + P(X = 19) + P(X = 20)"
   ]
  },
  {
   "cell_type": "markdown",
   "id": "af572694-d818-411a-8b25-113bdc97b708",
   "metadata": {},
   "source": [
    "**4. The number of students arriving at a college between a time interval is a Poisson random variable. On average, 10 students arrive per hour. Let Y be the number of students arriving from 10 am to 11:30 am. What is P(10<Y≤15)?**"
   ]
  },
  {
   "cell_type": "markdown",
   "id": "afdf9d62-5180-43e0-933b-05a28331c8a0",
   "metadata": {},
   "source": [
    "The number of students arriving at the college between the time interval of 10 am to 11:30 am follows a Poisson distribution with an average rate of 10 students per hour.\n",
    "\n",
    "Let's denote the random variable Y as the number of students arriving from 10 am to 11:30 am.\n",
    "\n",
    "To calculate P(10 < Y ≤ 15), we need to sum the probabilities of Y being greater than 10 and less than or equal to 15.\n",
    "\n",
    "P(10 < Y ≤ 15) = P(Y = 11) + P(Y = 12) + P(Y = 13) + P(Y = 14) + P(Y = 15)\n",
    "\n",
    "The probability mass function (PMF) of a Poisson distribution is given by:\n",
    "\n",
    "P(Y = k) = (e^(-λ) * λ^k) / k!\n",
    "\n",
    "Where λ is the average rate, which is 10 students per hour in this case.\n",
    "\n",
    "Substituting the values into the formula, we can calculate P(10 < Y ≤ 15)."
   ]
  },
  {
   "cell_type": "markdown",
   "id": "1d8e2551-e7c0-465b-b18b-f3fbc9755eaa",
   "metadata": {},
   "source": [
    "**5.Two independent random variables, X and Y,are given such that X~Poisson(α) and Y~Poisson(β). State a new random variable as Z = X + Y. Find out the PMF of Z.**"
   ]
  },
  {
   "cell_type": "markdown",
   "id": "13edcd4a-907d-49c5-9b5b-4e042531bccb",
   "metadata": {},
   "source": [
    "To find the probability mass function (PMF) of the random variable Z = X + Y, where X and Y are independent Poisson random variables with parameters α and β respectively, we can use the convolution of their PMFs.\n",
    "\n",
    "The PMF of a Poisson random variable with parameter λ is given by:\n",
    "\n",
    "P(X = k) = (e^(-λ) * λ^k) / k!\n",
    "\n",
    "Since X and Y are independent, the PMF of Z can be calculated as the convolution of their PMFs:\n",
    "\n",
    "P(Z = z) = Σ [P(X = k) * P(Y = z - k)]\n",
    "\n",
    "where the sum is taken over all possible values of k.\n",
    "\n",
    "Substituting the PMF of the Poisson distribution for X and Y, we get:\n",
    "\n",
    "P(Z = z) = Σ [(e^(-α) * α^k / k!) * (e^(-β) * β^(z - k) / (z - k)!)]\n",
    "         = Σ [((α^k * β^(z - k)) / (k! * (z - k)!)) * (e^(-α - β))]\n",
    "\n",
    "where the sum is taken over all possible values of k from 0 to z.\n",
    "\n",
    "This expression gives the PMF of the random variable Z = X + Y as a function of the parameters α and β, and the value z."
   ]
  },
  {
   "cell_type": "markdown",
   "id": "2d4c91a0-bfc8-403d-9381-e0e76a8118c4",
   "metadata": {},
   "source": []
  },
  {
   "cell_type": "markdown",
   "id": "5f9707c8-d1f0-4464-814c-f5f7f27b9d1d",
   "metadata": {},
   "source": [
    "**7.A box containing 40 white shirts and 60 black shirts. If we choose 10 shirts (without replacement) at random, find the joint PMF of X and Y, where X is the number of white shirts and Y is the number of black shirts.**"
   ]
  },
  {
   "cell_type": "markdown",
   "id": "11ed1598-0f74-4b7b-9d63-69bb2c5c07d8",
   "metadata": {},
   "source": [
    "To find the joint probability mass function (PMF) of X and Y, where X is the number of white shirts and Y is the number of black shirts, we can use the hypergeometric distribution since we are sampling without replacement.\n",
    "\n",
    "Let's denote X as the number of white shirts and Y as the number of black shirts. The total number of shirts is n = 10, the number of white shirts is m1 = 40, and the number of black shirts is m2 = 60.\n",
    "\n",
    "The joint PMF of X and Y can be calculated as:\n",
    "\n",
    "P(X = x, Y = y) = (C(m1, x) * C(m2, y)) / C(n, m)\n",
    "\n",
    "where C(a, b) represents the binomial coefficient, which is the number of ways to choose b items from a set of a items.\n",
    "\n",
    "C(a, b) = a! / (b! * (a - b)!)\n",
    "\n",
    "The denominator C(n, m) is the total number of ways to choose m shirts from a set of n shirts.\n",
    "\n",
    "Let's calculate the joint PMF for different values of x and y:\n",
    "\n",
    "P(X = 0, Y = 10) = (C(40, 0) * C(60, 10)) / C(100, 10)\n",
    "P(X = 1, Y = 9) = (C(40, 1) * C(60, 9)) / C(100, 10)\n",
    "...\n",
    "P(X = 10, Y = 0) = (C(40, 10) * C(60, 0)) / C(100, 10)"
   ]
  },
  {
   "cell_type": "markdown",
   "id": "1e9842a9-0d8c-4d6f-8a21-453311b60390",
   "metadata": {},
   "source": [
    "**8.If A and B are two jointly continuous random variables with joint PDF**\n",
    "\n",
    "**a.Find fX(a) and fY(b).**\n",
    "\n",
    "**b.Are A and B independent of each other?**\n",
    "\n",
    "**c.Find the conditional PDF of A given B = b, fA|B(a|b).**\n",
    "\n",
    "**dFind E[A|B = b], for 0 ≤ y ≤ 1.**\n",
    "\n",
    "**e.Find Var(A|B = b), for 0 ≤ y ≤ 1.**"
   ]
  },
  {
   "cell_type": "markdown",
   "id": "c66c83be-70fb-4467-bad5-182ac8b60262",
   "metadata": {},
   "source": [
    "a. To find fX(a), we integrate the joint PDF f_xy(x, y) over the range of y:\n",
    "\n",
    "fX(a) = ∫[0,1] f_xy(a, y) dy\n",
    "\n",
    "       = ∫[0,1] 6ay dy\n",
    "       \n",
    "       = 6a ∫[0,1] y dy\n",
    "       \n",
    "       = 6a [y^2/2] evaluated from 0 to 1\n",
    "       \n",
    "       = 6a (1/2 - 0)\n",
    "       \n",
    "       = 3a\n",
    "\n",
    "Similarly, to find fY(b), we integrate the joint PDF f_xy(x, y) over the range of x:\n",
    "\n",
    "fY(b) = ∫[0,1] f_xy(x, b) dx\n",
    "\n",
    "       = ∫[0,1] 6bx dx\n",
    "       \n",
    "       = 6b ∫[0,1] x dx\n",
    "       \n",
    "       = 6b [x^2/2] evaluated from 0 to 1\n",
    "       \n",
    "       = 6b (1/2 - 0)\n",
    "       \n",
    "       = 3b\n",
    "\n",
    "b. A and B are independent if and only if their joint PDF can be factorized into the product of their marginal PDFs. In this case, we have fX(a) = 3a and fY(b) = 3b. Since the joint PDF f_xy(x, y) = 6xy ≠ fX(a) * fY(b), A and B are not independent.\n",
    "\n",
    "c. The conditional PDF of A given B = b is given by:\n",
    "\n",
    "fA|B(a|b) = f_xy(a, b) / fY(b)\n",
    "\n",
    "           = (6ab) / (3b)\n",
    "           \n",
    "           = 2a, where b ≠ 0\n",
    "           \n",
    "\n",
    "d. The conditional expectation E[A|B = b] is given by:\n",
    "\n",
    "E[A|B = b] = ∫[0,1] a * fA|B(a|b) da\n",
    "\n",
    "            = ∫[0,1] a * 2a da\n",
    "            \n",
    "            = 2 ∫[0,1] a^2 da\n",
    "            \n",
    "            = 2 * [a^3/3] evaluated from 0 to 1\n",
    "            \n",
    "            = 2 * (1/3 - 0)\n",
    "            \n",
    "            = 2/3\n",
    "\n",
    "e. The conditional variance Var(A|B = b) is given by:\n",
    "\n",
    "Var(A|B = b) = E[A^2|B = b] - (E[A|B = b])^2\n",
    "\n",
    "             = ∫[0,1] a^2 * fA|B(a|b) da - (2/3)^2\n",
    "             \n",
    "             = ∫[0,1] a^2 * 2a da - 4/9\n",
    "             \n",
    "             = 2 ∫[0,1] a^3 da - 4/9\n",
    "             \n",
    "             = 2 * [a^4/4] evaluated from 0 to 1 - 4/9\n",
    "             \n",
    "             = 2 * (1/4 - 0) - 4/9\n",
    "             \n",
    "             = 1/2 - 4/9\n",
    "             \n",
    "             = 1/18"
   ]
  },
  {
   "cell_type": "markdown",
   "id": "4c8917f4-78fe-4aaf-8faa-a1619a78aa06",
   "metadata": {},
   "source": [
    "**9.There are 100 men on a ship. If Xi is the ith man's weight on the ship and Xi's are independent and identically distributed and EXi = μ = 170 and σXi = σ = 30. Find the probability that the men's total weight on the ship exceeds 18,000.**"
   ]
  },
  {
   "cell_type": "markdown",
   "id": "877055ec-d8ef-4356-97c3-dd168274bd2b",
   "metadata": {},
   "source": [
    "To find the probability that the men's total weight on the ship exceeds 18,000, we can use the central limit theorem. According to the central limit theorem, the sum of a large number of independent and identically distributed random variables approaches a normal distribution.\n",
    "\n",
    "Let's denote the total weight of the men on the ship as T, which is the sum of the individual weights Xi. Since each Xi follows a normal distribution with mean μ = 170 and standard deviation σ = 30, the total weight T can be approximated as a normal distribution with mean E(T) = n * μ and standard deviation SD(T) = sqrt(n) * σ, where n is the number of men on the ship.\n",
    "\n",
    "In this case, n = 100, μ = 170, and σ = 30. Therefore, the mean of the total weight is E(T) = 100 * 170 = 17,000, and the standard deviation is SD(T) = sqrt(100) * 30 = 300.\n",
    "\n",
    "Now, we can calculate the probability that the men's total weight exceeds 18,000 using the normal distribution. Let Z be a standard normal random variable (mean = 0, standard deviation = 1), then we can transform the problem as follows:\n",
    "\n",
    "P(T > 18,000) = P((T - E(T))/SD(T) > (18,000 - E(T))/SD(T))\n",
    "              = P((T - 17,000)/300 > (18,000 - 17,000)/300)\n",
    "              = P(Z > 1/3)\n",
    "\n",
    "Using the standard normal distribution table or a calculator, we can find that P(Z > 1/3) is approximately 0.371.\n",
    "\n",
    "Therefore, the probability that the men's total weight on the ship exceeds 18,000 is approximately 0.371, or 37.1%."
   ]
  },
  {
   "cell_type": "markdown",
   "id": "828c9eaf-3f10-4f5e-aad4-09b2c420c03d",
   "metadata": {},
   "source": [
    "**10.Let X1, X2, ……, X25 are independent and identically distributed. And have the following PMF  \n",
    "If Y = X1 + X2 + … + Xn, estimate P(4 ≤ Y ≤ 6) using central limit theorem**"
   ]
  },
  {
   "cell_type": "markdown",
   "id": "642b03df-7c7f-480d-8ec4-d10edf7ab8ce",
   "metadata": {},
   "source": [
    "To estimate the probability P(4 ≤ Y ≤ 6) using the central limit theorem, we need to calculate the mean and standard deviation of Y.\n",
    "\n",
    "Given that X1, X2, ..., X25 are independent and identically distributed random variables, we can determine their mean (μ) and standard deviation (σ) using the given PMF.\n",
    "\n",
    "According to the PMF, the possible values of Xi are 0, 1, 2, 3, 4, and their respective probabilities are 0.2, 0.3, 0.25, 0.15, and 0.1.\n",
    "\n",
    "The mean (μ) of each Xi can be calculated as:\n",
    "μ = (0 * 0.2) + (1 * 0.3) + (2 * 0.25) + (3 * 0.15) + (4 * 0.1) = 1.6\n",
    "\n",
    "The variance (σ^2) of each Xi can be calculated as:\n",
    "σ^2 = [(0 - 1.6)^2 * 0.2] + [(1 - 1.6)^2 * 0.3] + [(2 - 1.6)^2 * 0.25] + [(3 - 1.6)^2 * 0.15] + [(4 - 1.6)^2 * 0.1] = 1.04\n",
    "\n",
    "The standard deviation (σ) of each Xi can be calculated as:\n",
    "σ = sqrt(σ^2) = sqrt(1.04) ≈ 1.0198\n",
    "\n",
    "Now, let's consider Y = X1 + X2 + ... + X25. According to the central limit theorem, the sum of a large number of independent and identically distributed random variables is approximately normally distributed.\n",
    "\n",
    "The mean of Y (μY) can be calculated as:\n",
    "μY = n * μ = 25 * 1.6 = 40\n",
    "\n",
    "The standard deviation of Y (σY) can be calculated as:\n",
    "σY = sqrt(n) * σ = sqrt(25) * 1.0198 ≈ 5.0990\n",
    "\n",
    "To estimate P(4 ≤ Y ≤ 6), we can standardize the interval using the z-score:\n",
    "\n",
    "z1 = (4 - μY) / σY\n",
    "z2 = (6 - μY) / σY\n",
    "\n",
    "Then, we can calculate the probability using the standard normal distribution:\n",
    "\n",
    "P(4 ≤ Y ≤ 6) = P(z1 ≤ Z ≤ z2)\n",
    "\n",
    "where Z is a standard normal random variable.\n",
    "\n",
    "Finally, using the standard normal distribution table or a calculator, we can find the probability P(4 ≤ Y ≤ 6) based on the calculated z-scores."
   ]
  },
  {
   "cell_type": "code",
   "execution_count": null,
   "id": "e47f9f53-5efa-436b-8ba7-4cdfc41549f9",
   "metadata": {},
   "outputs": [],
   "source": []
  }
 ],
 "metadata": {
  "kernelspec": {
   "display_name": "Python 3 (ipykernel)",
   "language": "python",
   "name": "python3"
  },
  "language_info": {
   "codemirror_mode": {
    "name": "ipython",
    "version": 3
   },
   "file_extension": ".py",
   "mimetype": "text/x-python",
   "name": "python",
   "nbconvert_exporter": "python",
   "pygments_lexer": "ipython3",
   "version": "3.10.6"
  }
 },
 "nbformat": 4,
 "nbformat_minor": 5
}
