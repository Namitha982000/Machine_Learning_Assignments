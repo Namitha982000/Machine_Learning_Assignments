{
 "cells": [
  {
   "cell_type": "markdown",
   "id": "95027e45-91d4-42f9-bae6-6bc620262123",
   "metadata": {},
   "source": [
    "# Assignment - 9"
   ]
  },
  {
   "cell_type": "markdown",
   "id": "b1ddcccb-4546-482f-8887-2899e88d3f9c",
   "metadata": {},
   "source": [
    "**1. What is feature engineering, and how does it work? Explain the various aspects of feature engineering in depth.**"
   ]
  },
  {
   "cell_type": "markdown",
   "id": "9b5adbfa-4011-4923-8f12-8ab0479ba6cf",
   "metadata": {},
   "source": [
    "Feature engineering is the process of transforming raw data into a set of meaningful and informative features that can be used by machine learning algorithms to improve predictive performance. It involves creating, selecting, and transforming features from the original dataset to enhance the model's ability to learn and make accurate predictions. Feature engineering is a crucial step in the machine learning pipeline and often has a significant impact on the model's performance.\n",
    "\n",
    "Here are the various aspects of feature engineering:\n",
    "\n",
    "1. Feature Creation:\n",
    "   - Generating new features based on existing ones or domain knowledge.\n",
    "   - Examples include creating interaction terms, polynomial features, aggregating data at different levels of granularity, and creating indicator variables.\n",
    "\n",
    "2. Feature Selection:\n",
    "   - Selecting a subset of the most relevant features from the original dataset.\n",
    "   - This helps to reduce dimensionality, remove irrelevant or redundant features, and improve model simplicity and interpretability.\n",
    "   - Techniques for feature selection include statistical tests, correlation analysis, forward/backward selection, and regularization methods.\n",
    "\n",
    "3. Feature Transformation:\n",
    "   - Transforming the features to meet certain assumptions or improve model performance.\n",
    "   - Common transformations include scaling features to a specific range (e.g., normalization or standardization), logarithmic transformations, power transformations, and handling skewed distributions.\n",
    "\n",
    "4. Handling Missing Data:\n",
    "   - Dealing with missing values in the dataset, which could adversely affect the model's performance.\n",
    "   - Techniques include imputation methods such as mean, median, or mode imputation, interpolation, or advanced methods like regression imputation or multiple imputation.\n",
    "\n",
    "5. Encoding Categorical Variables:\n",
    "   - Converting categorical features into numerical representations that can be processed by machine learning algorithms.\n",
    "   - Techniques include one-hot encoding, label encoding, target encoding, and ordinal encoding.\n",
    "\n",
    "6. Feature Scaling:\n",
    "   - Rescaling features to a common scale to ensure they have a similar magnitude.\n",
    "   - Common scaling methods include min-max scaling (normalization) and standardization.\n",
    "\n",
    "7. Handling Outliers:\n",
    "   - Identifying and handling outliers that may affect the model's performance or bias the results.\n",
    "   - Techniques include removing outliers, capping/extending the range, or using robust statistical measures."
   ]
  },
  {
   "cell_type": "markdown",
   "id": "4c933e9d-9844-4d20-9644-b4a35c5995ac",
   "metadata": {},
   "source": [
    "**2. What is feature selection, and how does it work? What is the aim of it? What are the various methods of function selection?**"
   ]
  },
  {
   "cell_type": "markdown",
   "id": "95ca109f-b8b2-415f-8f33-e694e291f516",
   "metadata": {},
   "source": [
    "Feature selection is the process of selecting a subset of relevant features from the original set of features to improve model performance, reduce dimensionality, and enhance interpretability. The aim of feature selection is to identify the most informative and discriminative features that contribute the most to the prediction task, while discarding irrelevant or redundant features that may introduce noise or increase computational complexity.\n",
    "\n",
    "There are several methods of feature selection, including:\n",
    "\n",
    "1. Filter Methods:\n",
    "   - Filter methods evaluate the relevance of features based on statistical metrics or scoring functions, independent of the machine learning algorithm.\n",
    "   - Examples include correlation coefficient, chi-square test, mutual information, and information gain.\n",
    "   - Features are ranked based on their individual scores, and a subset of top-ranked features is selected.\n",
    "\n",
    "2. Wrapper Methods:\n",
    "   - Wrapper methods select features by training and evaluating a specific machine learning algorithm on different subsets of features.\n",
    "   - They utilize the performance of the model on a validation set as a criterion for feature selection.\n",
    "   - Examples include recursive feature elimination (RFE), forward selection, and backward elimination.\n",
    "   - Wrapper methods can be computationally expensive but provide more accurate feature subsets tailored to the specific learning algorithm.\n",
    "\n",
    "3. Embedded Methods:\n",
    "   - Embedded methods incorporate feature selection within the model training process itself.\n",
    "   - They consider feature importance as part of the model's learning objective or regularization process.\n",
    "   - Examples include L1 regularization (Lasso), decision tree-based feature importance, and elastic net regularization.\n",
    "   - Embedded methods are efficient as they perform feature selection during model training.\n",
    "\n",
    "4. Dimensionality Reduction Techniques:\n",
    "   - Dimensionality reduction techniques aim to reduce the dimensionality of the feature space while preserving as much information as possible.\n",
    "   - Principal Component Analysis (PCA) and Linear Discriminant Analysis (LDA) are common dimensionality reduction methods.\n",
    "   - These techniques transform the original features into a lower-dimensional space based on certain criteria or statistical properties.\n",
    "\n",
    "The choice of feature selection method depends on the dataset, the specific machine learning algorithm, and the goals of the analysis. It is important to consider the trade-off between model performance and interpretability when selecting features, as reducing the number of features can enhance model simplicity and reduce overfitting."
   ]
  },
  {
   "cell_type": "markdown",
   "id": "f5623c16-01e9-4c76-a82a-54ca24721c43",
   "metadata": {},
   "source": [
    "**3. Describe the function selection filter and wrapper approaches. State the pros and cons of each approach?**"
   ]
  },
  {
   "cell_type": "markdown",
   "id": "3604c297-e389-4312-8e4b-09055d0cb8ce",
   "metadata": {},
   "source": [
    "The function selection approaches, filter and wrapper, are two commonly used methods for selecting relevant features in machine learning. Let's explore each approach along with their pros and cons:\n",
    "\n",
    "1. Filter Approach:\n",
    "   - Filter approaches evaluate the relevance of features based on statistical metrics or scoring functions, independent of the machine learning algorithm.\n",
    "   - They consider the intrinsic properties of the features without considering the specific learning algorithm.\n",
    "   - Pros:\n",
    "     - Computationally efficient as feature evaluation is decoupled from model training.\n",
    "     - Provides a quick way to identify potentially informative features.\n",
    "     - Can handle high-dimensional datasets with a large number of features.\n",
    "     - Can be used as a preprocessing step before applying any learning algorithm.\n",
    "   - Cons:\n",
    "     - Ignores the interactions between features and their relationship with the target variable.\n",
    "     - Does not consider the specific learning task or the model's requirements.\n",
    "     - May select irrelevant features that are highly correlated with the target but do not contribute to predictive performance.\n",
    "\n",
    "2. Wrapper Approach:\n",
    "   - Wrapper approaches select features by training and evaluating a specific machine learning algorithm on different subsets of features.\n",
    "   - They use the performance of the model on a validation set as a criterion for feature selection.\n",
    "   - Pros:\n",
    "     - Considers the interactions between features and their relationship with the target variable.\n",
    "     - Takes into account the specific learning algorithm and the model's requirements.\n",
    "     - Can identify the most informative features for a particular learning task.\n",
    "     - Allows for feature subset customization based on the specific learning algorithm.\n",
    "   - Cons:\n",
    "     - Computationally expensive as it involves training and evaluating the model multiple times on different feature subsets.\n",
    "     - May overfit the model to the training data and lead to poor generalization.\n",
    "     - Requires a predefined model and may not generalize well to other models."
   ]
  },
  {
   "cell_type": "markdown",
   "id": "09717664-5793-4978-95a6-20b19021df54",
   "metadata": {},
   "source": [
    "**4.**\n",
    "\n",
    "**i. Describe the overall feature selection process.**\n",
    "\n",
    "**ii. Explain the key underlying principle of feature extraction using an example. What are the most widely used function extraction algorithms?**\n"
   ]
  },
  {
   "cell_type": "markdown",
   "id": "c81a3152-d3be-4364-afb1-afd864356693",
   "metadata": {},
   "source": [
    "i. The overall feature selection process typically involves the following steps:\n",
    "\n",
    "1. Data Preparation: Preprocess the data by handling missing values, outliers, and normalizing or scaling the features if necessary.\n",
    "\n",
    "2. Feature Generation: If required, create new features through feature engineering techniques such as combining existing features, transforming variables, or creating interaction terms.\n",
    "\n",
    "3. Feature Ranking or Scoring: Use a feature ranking or scoring method to assign a relevance score to each feature. This can be done using filter methods, wrapper methods, or embedded methods.\n",
    "\n",
    "4. Feature Selection: Select the top-ranked features based on the assigned scores. This can be done by setting a threshold, selecting a fixed number of features, or using a specific selection algorithm.\n",
    "\n",
    "5. Model Training and Evaluation: Train the machine learning model using the selected features and evaluate its performance on a validation or test dataset. Iteratively refine the feature selection process if needed.\n",
    "\n",
    "6. Model Deployment: Use the final set of selected features to train the model on the entire dataset and deploy it for making predictions on new, unseen data.\n",
    "\n",
    "ii. The key underlying principle of feature extraction is to transform the original features into a lower-dimensional space while preserving the relevant information. This is typically done by finding a set of new features that capture the most important characteristics of the original features. One widely used technique for feature extraction is Principal Component Analysis (PCA).\n",
    "\n",
    "PCA aims to find a set of orthogonal features, known as principal components, that capture the maximum variance in the data. Each principal component is a linear combination of the original features, and they are ordered by the amount of variance they explain. By selecting a subset of the top-ranked principal components, we can effectively reduce the dimensionality of the data.\n",
    "\n",
    "Other commonly used feature extraction algorithms include Linear Discriminant Analysis (LDA) for supervised dimensionality reduction, Independent Component Analysis (ICA) for separating statistically independent components, and Non-negative Matrix Factorization (NMF) for finding non-negative representations of the data.\n",
    "\n",
    "These feature extraction algorithms can be beneficial in reducing the dimensionality of high-dimensional datasets, removing redundant information, and focusing on the most informative features for the given learning task."
   ]
  },
  {
   "cell_type": "markdown",
   "id": "b863a591-4950-45e3-87ef-0752ab4bf67c",
   "metadata": {},
   "source": [
    "**5. Describe the feature engineering process in the sense of a text categorization issue.**"
   ]
  },
  {
   "cell_type": "markdown",
   "id": "2b547db8-eb77-4ef6-b2fd-48e114f62e7e",
   "metadata": {},
   "source": [
    "The feature engineering process in the context of text categorization involves transforming raw text data into numerical features that can be used by machine learning algorithms. Here are the key steps involved:\n",
    "\n",
    "1. Text Preprocessing: This step involves cleaning the text data by removing any irrelevant characters, punctuation, or special symbols. It also includes converting the text to lowercase, removing stop words (common words like \"and,\" \"the,\" \"is\"), and performing stemming or lemmatization to reduce words to their root form.\n",
    "\n",
    "2. Tokenization: Tokenization is the process of splitting the text into individual words or tokens. This can be done using techniques like whitespace tokenization or more advanced methods like word tokenization using natural language processing libraries.\n",
    "\n",
    "3. Feature Extraction: In text categorization, feature extraction typically involves converting the text tokens into numerical representations. Here are a few common techniques:\n",
    "\n",
    "   a. Bag-of-Words (BoW): BoW represents each document as a vector where each element corresponds to the count or presence of a word in the document. This approach captures the frequency or occurrence of words in the text.\n",
    "\n",
    "   b. TF-IDF (Term Frequency-Inverse Document Frequency): TF-IDF assigns a weight to each word in a document based on its frequency in the document and its rarity in the entire corpus. It helps to emphasize important and discriminative words while downplaying common words.\n",
    "\n",
    "   c. Word Embeddings: Word embeddings like Word2Vec or GloVe represent words as dense vectors in a high-dimensional space, capturing semantic relationships between words. These pre-trained word embeddings can be used as features or fine-tuned for the specific task.\n",
    "\n",
    "4. Feature Selection: After extracting the numerical features, it may be necessary to further select relevant features to improve model performance and reduce dimensionality. This can be done using techniques like mutual information, chi-square test, or feature importance from machine learning models.\n",
    "\n",
    "5. Feature Engineering: Additional features can be created based on domain knowledge or specific characteristics of the text data. This can include features like document length, presence of specific keywords or phrases, or linguistic features such as parts of speech.\n",
    "\n",
    "6. Model Training and Evaluation: Finally, the engineered features are used to train a machine learning model for text categorization. The model can be evaluated using appropriate metrics such as accuracy, precision, recall, and F1-score on a holdout or cross-validation dataset."
   ]
  },
  {
   "cell_type": "markdown",
   "id": "8093c3d4-6639-4543-ae73-ae2fd97b66b9",
   "metadata": {},
   "source": [
    "**6. What makes cosine similarity a good metric for text categorization? A document-term matrix has two rows with values of (2, 3, 2, 0, 2, 3, 3, 0, 1) and (2, 1, 0, 0, 3, 2, 1, 3, 1). Find the resemblance in cosine.**"
   ]
  },
  {
   "cell_type": "markdown",
   "id": "d9bb64ea-1a75-4c06-baee-ddcc5ab1cf26",
   "metadata": {},
   "source": [
    "Cosine similarity is a commonly used metric for text categorization because it captures the similarity between two documents based on their vector representations in a high-dimensional space. Here are some reasons why cosine similarity is well-suited for text categorization:\n",
    "\n",
    "1. Robustness to document length: Cosine similarity is not affected by the length of the documents being compared. It measures the cosine of the angle between two vectors rather than their magnitudes, making it suitable for comparing documents of varying lengths.\n",
    "\n",
    "2. Focus on content overlap: Cosine similarity considers the overlap in content between documents rather than the specific term frequencies. It captures the degree of similarity in terms of the orientation of the vectors rather than the magnitude of the vectors.\n",
    "\n",
    "3. Dimensionality reduction: Cosine similarity reduces the dimensionality of the problem by focusing on the angle between vectors instead of the absolute term frequencies. This helps in mitigating the impact of noise or less relevant terms.\n",
    "\n",
    "Now, let's calculate the cosine similarity for the given document-term matrix:\n",
    "\n",
    "Document A: (2, 3, 2, 0, 2, 3, 3, 0, 1)\n",
    "Document B: (2, 1, 0, 0, 3, 2, 1, 3, 1)\n",
    "\n",
    "To calculate the cosine similarity, we need to compute the dot product of the two vectors and divide it by the product of their magnitudes:\n",
    "\n",
    "Dot product = (2*2) + (3*1) + (2*0) + (0*0) + (2*3) + (3*2) + (3*1) + (0*3) + (1*1) = 24\n",
    "Magnitude of A = sqrt(2^2 + 3^2 + 2^2 + 0^2 + 2^2 + 3^2 + 3^2 + 0^2 + 1^2) = sqrt(34) ≈ 5.83\n",
    "Magnitude of B = sqrt(2^2 + 1^2 + 0^2 + 0^2 + 3^2 + 2^2 + 1^2 + 3^2 + 1^2) = sqrt(30) ≈ 5.48\n",
    "\n",
    "Cosine similarity = Dot product / (Magnitude of A * Magnitude of B) = 24 / (5.83 * 5.48) ≈ 0.795\n",
    "\n",
    "Therefore, the cosine similarity between the two rows of the document-term matrix is approximately 0.795."
   ]
  },
  {
   "cell_type": "markdown",
   "id": "f764bcdd-bc04-42d5-a2bf-07f82f905838",
   "metadata": {},
   "source": [
    "**7.**\n",
    "\n",
    "**i. What is the formula for calculating Hamming distance? Between 10001011 and 11001111, calculate the Hamming gap.**\n",
    "\n",
    "**ii. Compare the Jaccard index and similarity matching coefficient of two features with values (1, 1, 0, 0, 1, 0, 1, 1) and (1, 1, 0, 0, 0, 1, 1, 1), respectively (1, 0, 0, 1, 1, 0, 0, 1).**\n"
   ]
  },
  {
   "cell_type": "markdown",
   "id": "6a593532-ede3-448b-8efa-a8d1eeb9e808",
   "metadata": {},
   "source": [
    "i. The Hamming distance is a metric used to measure the difference between two binary strings of equal length. It calculates the number of positions at which the corresponding bits are different. The formula for calculating Hamming distance is as follows:\n",
    "\n",
    "Hamming distance = Number of differing bits / Length of the strings\n",
    "\n",
    "Let's calculate the Hamming distance between 10001011 and 11001111:\n",
    "\n",
    "Positions:   1 0 0 0 1 0 1 1\n",
    "             | | | | | | | |\n",
    "             1 1 0 0 1 1 1 1\n",
    "\n",
    "There are 3 positions where the bits differ: at positions 2, 5, and 6.\n",
    "\n",
    "Hamming distance = 3 / 8 = 0.375\n",
    "\n",
    "Therefore, the Hamming distance between 10001011 and 11001111 is 0.375.\n",
    "\n",
    "ii. The Jaccard index and the similarity matching coefficient are both metrics used to measure the similarity between sets or binary vectors.\n",
    "\n",
    "For the given sets of binary vectors:\n",
    "\n",
    "Set A: (1, 1, 0, 0, 1, 0, 1, 1)\n",
    "Set B: (1, 1, 0, 0, 0, 1, 1, 1)\n",
    "Set C: (1, 0, 0, 1, 1, 0, 0, 1)\n",
    "\n",
    "To calculate the Jaccard index, we divide the size of the intersection of the sets by the size of their union:\n",
    "\n",
    "Jaccard index = |A ∩ B| / |A ∪ B|\n",
    "              = 4 / 6\n",
    "              = 0.67\n",
    "\n",
    "To calculate the similarity matching coefficient, we divide the number of matching elements in the sets by the total number of elements:\n",
    "\n",
    "Similarity matching coefficient = |A ∩ C| / |A ∪ C|\n",
    "                               = 3 / 7\n",
    "                               = 0.43\n",
    "\n",
    "Therefore, the Jaccard index between Set A and Set B is 0.67, and the similarity matching coefficient between Set A and Set C is 0.43."
   ]
  },
  {
   "cell_type": "markdown",
   "id": "3e2a215d-ed23-4e1a-9278-56c3efd4651e",
   "metadata": {},
   "source": [
    "**8. State what is meant by  \"high-dimensional data set\"? Could you offer a few real-life examples? What are the difficulties in using machine learning techniques on a data set with many dimensions? What can be done about it?**"
   ]
  },
  {
   "cell_type": "markdown",
   "id": "8bec8fd1-5105-41d5-b9e1-864335e96e59",
   "metadata": {},
   "source": [
    "In machine learning, a high-dimensional data set refers to a dataset that has a large number of features or attributes compared to the number of samples or observations. It means that each data point in the dataset is described by a large number of variables.\n",
    "\n",
    "Real-life examples of high-dimensional datasets include:\n",
    "\n",
    "1. Gene expression data: In genomics, the expression levels of thousands of genes can be measured simultaneously for each sample, resulting in high-dimensional data.\n",
    "\n",
    "2. Image data: Images captured with high-resolution cameras contain a large number of pixels, resulting in a high-dimensional representation.\n",
    "\n",
    "3. Text data: Text documents represented as word vectors using techniques like word embeddings can have a high dimensionality if a large vocabulary is used.\n",
    "\n",
    "4. Sensor data: Sensor networks in various domains such as IoT, environmental monitoring, or manufacturing generate high-dimensional data due to multiple sensors capturing data simultaneously.\n",
    "\n",
    "Difficulties in using machine learning techniques on high-dimensional datasets include:\n",
    "\n",
    "1. Curse of dimensionality: As the number of dimensions increases, the data becomes sparse, making it challenging to find meaningful patterns or relationships.\n",
    "\n",
    "2. Increased computational complexity: With a large number of dimensions, training machine learning models becomes computationally expensive and may require more memory.\n",
    "\n",
    "3. Overfitting: High-dimensional data increases the risk of overfitting, where the model learns noise or irrelevant patterns in the data, leading to poor generalization.\n",
    "\n",
    "To address these difficulties, dimensionality reduction techniques can be applied to reduce the number of dimensions while preserving the essential information. Some common approaches include:\n",
    "\n",
    "1. Feature selection: Selecting a subset of relevant features based on their importance or correlation with the target variable.\n",
    "\n",
    "2. Principal Component Analysis (PCA): Transforming the high-dimensional data into a lower-dimensional space while retaining the maximum variance in the data.\n",
    "\n",
    "3. Manifold learning: Techniques like t-SNE or LLE aim to find a lower-dimensional representation of the data while preserving the local structure.\n",
    "\n",
    "By reducing the dimensionality of the dataset, machine learning models can be trained more efficiently, mitigate overfitting, and improve the interpretability of the results."
   ]
  },
  {
   "cell_type": "markdown",
   "id": "9ed1d105-1b9d-432f-ad7d-d7c081e495ae",
   "metadata": {},
   "source": [
    "**9. Make a few quick notes on:**\n",
    "\n",
    "**1.PCA is an acronym for Personal Computer Analysis.**\n",
    "\n",
    "**2. Use of vectors**\n",
    "\n",
    "**3. Embedded technique**\n"
   ]
  },
  {
   "cell_type": "markdown",
   "id": "e84f8c2c-a58e-4612-824c-ff032bdcad42",
   "metadata": {},
   "source": [
    "1. PCA (Principal Component Analysis): PCA is an unsupervised dimensionality reduction technique used to transform a high-dimensional dataset into a lower-dimensional space while preserving the most important information. It identifies the principal components, which are linear combinations of the original features that capture the maximum variance in the data. PCA is not related to Personal Computer Analysis.\n",
    "\n",
    "2. Use of vectors: Vectors are mathematical entities used in machine learning to represent quantities or data points in a multi-dimensional space. In machine learning, features or attributes of a data point are often represented as vectors. Vectors allow us to perform mathematical operations and calculations, such as computing distances, similarities, and transformations.\n",
    "\n",
    "3. Embedded technique: In the context of feature selection, an embedded technique refers to a method that integrates feature selection within the process of training a machine learning model. Embedded techniques aim to select the most relevant features by considering their importance in the context of the specific learning algorithm. Examples of embedded techniques include L1 regularization (Lasso), tree-based feature importance, or coefficients from linear models."
   ]
  },
  {
   "cell_type": "markdown",
   "id": "1a85070d-c791-4f07-b365-d5cdd3822304",
   "metadata": {},
   "source": [
    "**10. Make a comparison between:**\n",
    "\n",
    "**1. Sequential backward exclusion vs. sequential forward selection**\n",
    "\n",
    "**2. Function selection methods: filter vs. wrapper**\n",
    "\n",
    "**3. SMC vs. Jaccard coefficient**\n"
   ]
  },
  {
   "cell_type": "markdown",
   "id": "48ff85b5-fe2a-4f41-87c7-d7e1c0c0093e",
   "metadata": {},
   "source": [
    "1. Sequential backward exclusion vs. sequential forward selection:\n",
    "   - Sequential backward exclusion: It is a feature selection method that starts with all features and iteratively removes one feature at a time based on a specified criterion (e.g., performance of the model). The process continues until a stopping criterion is met.\n",
    "   - Sequential forward selection: It is a feature selection method that starts with an empty set of features and iteratively adds one feature at a time based on a specified criterion. The process continues until a stopping criterion is met.\n",
    "   The main difference between the two approaches is the direction of feature selection. Sequential backward exclusion starts with all features and eliminates them one by one, while sequential forward selection starts with no features and adds them one by one.\n",
    "\n",
    "2. Function selection methods: filter vs. wrapper:\n",
    "   - Filter methods: Filter methods for feature selection evaluate the relevance of each feature individually based on some statistical or correlation measure. These methods do not rely on a specific machine learning algorithm but rather analyze the features independently of the learning algorithm.\n",
    "   - Wrapper methods: Wrapper methods for feature selection evaluate subsets of features by training and evaluating a specific machine learning model. They consider the performance of the model with different feature subsets and select the subset that optimizes the model's performance.\n",
    "   The main difference between filter and wrapper methods is the way they evaluate feature subsets. Filter methods assess features individually, while wrapper methods consider the impact of feature subsets on a specific machine learning model.\n",
    "\n",
    "3. SMC (Similarity Matching Coefficient) vs. Jaccard coefficient:\n",
    "   - SMC: The Similarity Matching Coefficient measures the similarity between two binary variables by comparing the number of matched values (both variables have the same value) to the number of non-matched values (one variable has a value of 1 while the other has a value of 0). It is calculated as the ratio of matched values to the sum of matched and non-matched values.\n",
    "   - Jaccard coefficient: The Jaccard coefficient is a similarity measure used for comparing the similarity between two sets. It is calculated as the ratio of the size of the intersection of the sets to the size of the union of the sets.\n",
    "   The main difference between SMC and the Jaccard coefficient is the type of data they are used for. SMC is used for comparing binary variables, while the Jaccard coefficient is used for comparing sets of items."
   ]
  },
  {
   "cell_type": "markdown",
   "id": "3c5bdf35-b4c6-4ddf-bb7f-f4050bf632e2",
   "metadata": {},
   "source": []
  }
 ],
 "metadata": {
  "kernelspec": {
   "display_name": "Python 3 (ipykernel)",
   "language": "python",
   "name": "python3"
  },
  "language_info": {
   "codemirror_mode": {
    "name": "ipython",
    "version": 3
   },
   "file_extension": ".py",
   "mimetype": "text/x-python",
   "name": "python",
   "nbconvert_exporter": "python",
   "pygments_lexer": "ipython3",
   "version": "3.10.6"
  }
 },
 "nbformat": 4,
 "nbformat_minor": 5
}
